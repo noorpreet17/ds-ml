{
 "cells": [
  {
   "cell_type": "code",
   "execution_count": 8,
   "id": "ce3bfd6d-800d-4fa7-8fe9-9f897d118e4a",
   "metadata": {},
   "outputs": [
    {
     "name": "stdout",
     "output_type": "stream",
     "text": [
      "1. Withdraw\n",
      "2. Deposit\n",
      "3. Check Balance\n",
      "4. Exit\n"
     ]
    },
    {
     "name": "stdin",
     "output_type": "stream",
     "text": [
      "enter your choice  1\n",
      "Enter Amount  100\n"
     ]
    },
    {
     "name": "stdout",
     "output_type": "stream",
     "text": [
      "withdrawl sucessfully.remaining balance9900\n",
      "1. Withdraw\n",
      "2. Deposit\n",
      "3. Check Balance\n",
      "4. Exit\n"
     ]
    },
    {
     "name": "stdin",
     "output_type": "stream",
     "text": [
      "enter your choice  2\n",
      "Enter Amount  100\n"
     ]
    },
    {
     "name": "stdout",
     "output_type": "stream",
     "text": [
      "sucessfully  deposit\n",
      "1. Withdraw\n",
      "2. Deposit\n",
      "3. Check Balance\n",
      "4. Exit\n"
     ]
    },
    {
     "name": "stdin",
     "output_type": "stream",
     "text": [
      "enter your choice  3\n"
     ]
    },
    {
     "name": "stdout",
     "output_type": "stream",
     "text": [
      "1. Withdraw\n",
      "2. Deposit\n",
      "3. Check Balance\n",
      "4. Exit\n"
     ]
    },
    {
     "name": "stdin",
     "output_type": "stream",
     "text": [
      "enter your choice  0\n"
     ]
    }
   ],
   "source": [
    "class Acccount:\n",
    "    def __init__(self,balance=0):\n",
    "        self.balance=balance\n",
    "    def check_balance(self):\n",
    "        return self.balance\n",
    "    def withdraw(self,amount):\n",
    "        if amount>self.balance:\n",
    "            print(\"insufficient balance\")\n",
    "        else:\n",
    "            self.balance = self.balance - amount\n",
    "            print(f\"withdrawl sucessfully.remaining balance{self.balance}\")\n",
    "    def deposit(self,amount):\n",
    "        self.balance=self.balance+amount\n",
    "        print(\"sucessfully  deposit\")\n",
    "\n",
    "\n",
    "myAccount = Acccount(10000)\n",
    "while True:\n",
    "    print(\"1. Withdraw\")\n",
    "    print(\"2. Deposit\")\n",
    "    print(\"3. Check Balance\")\n",
    "    print(\"0. Exit\")\n",
    "    choice = int(input(\"enter your choice \"))\n",
    "    \n",
    "    \n",
    "    if choice == 1:\n",
    "        myAccount.withdraw(int(input(\"Enter Amount \")))\n",
    "    if choice == 2:\n",
    "        myAccount.deposit(int(input(\"Enter Amount \")))\n",
    "    if choice == 3:\n",
    "        myAccount.check_balance()\n",
    "    if choice == 0:\n",
    "        break"
   ]
  }
 ],
 "metadata": {
  "kernelspec": {
   "display_name": "Python 3 (ipykernel)",
   "language": "python",
   "name": "python3"
  },
  "language_info": {
   "codemirror_mode": {
    "name": "ipython",
    "version": 3
   },
   "file_extension": ".py",
   "mimetype": "text/x-python",
   "name": "python",
   "nbconvert_exporter": "python",
   "pygments_lexer": "ipython3",
   "version": "3.12.4"
  }
 },
 "nbformat": 4,
 "nbformat_minor": 5
}
