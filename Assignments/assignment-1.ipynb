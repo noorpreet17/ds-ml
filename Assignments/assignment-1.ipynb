{
 "cells": [
  {
   "cell_type": "code",
   "execution_count": 13,
   "id": "61b170da-6638-4017-9e48-fed49afe3eef",
   "metadata": {},
   "outputs": [
    {
     "name": "stdin",
     "output_type": "stream",
     "text": [
      "Enter your marks:  89\n"
     ]
    },
    {
     "name": "stdout",
     "output_type": "stream",
     "text": [
      "Your Grade is :  A\n"
     ]
    }
   ],
   "source": [
    "#Real World Grade Calculator\n",
    "grade=['E','D','C','B','A','O']\n",
    "mark_range=[0,55,65,75,85,95]\n",
    "mark_range = mark_range[-1::-1]\n",
    "grade = grade[-1::-1]\n",
    "n = int(input(\"Enter your marks: \"))\n",
    "for i in mark_range:\n",
    "    if n >= i :\n",
    "        print(\"Your Grade is : \",grade[mark_range.index(i)])\n",
    "        break\n",
    "    else:\n",
    "        continue"
   ]
  },
  {
   "cell_type": "code",
   "execution_count": 15,
   "id": "95d18d58-88e3-4096-8d4a-3d0017cf9cbc",
   "metadata": {},
   "outputs": [
    {
     "name": "stdin",
     "output_type": "stream",
     "text": [
      "Enter First Number: 45\n",
      "Enter Second Number: 78\n"
     ]
    },
    {
     "name": "stdout",
     "output_type": "stream",
     "text": [
      "Enter your task to perform\n",
      " \t\t\t\t\t1)Addition\n",
      " \t\t\t\t\t2)Subtraction\n",
      " \t\t\t\t\t3)Multiplication\n",
      " \t\t\t\t\t4)Division :\n"
     ]
    },
    {
     "name": "stdin",
     "output_type": "stream",
     "text": [
      "Enter your choice:  3\n"
     ]
    },
    {
     "name": "stdout",
     "output_type": "stream",
     "text": [
      "45 * 78 = 3510\n"
     ]
    }
   ],
   "source": [
    "# Real world simple calculator\n",
    "num1 = int(input(\"Enter First Number:\")) \n",
    "num2 = int(input(\"Enter Second Number:\")) \n",
    "print(\"Enter your task to perform\\n \\t\\t\\t\\t\\t1)Addition\\n \\t\\t\\t\\t\\t2)Subtraction\\n \\t\\t\\t\\t\\t3)Multiplication\\n \\t\\t\\t\\t\\t4)Division :\") \n",
    "choice = int(input(\"Enter your choice: \")) \n",
    "if choice==1: \n",
    "    print(num1,'+',num2,\"=\",num1 + num2)\n",
    "elif choice==2:\n",
    "    print(num1,'-',num2,\"=\",num1 - num2)\n",
    "elif choice==3:\n",
    "    print(num1,'*',num2,\"=\",num1 * num2) \n",
    "elif choice==4: \n",
    "    if num2 != 0: \n",
    "        print(num1,'/',num2,\"=\",num1 / num2) \n",
    "    else: \n",
    "        print(\"Denominator Can't Be 0\")\n",
    "else: print(\"wrong choice\")\n"
   ]
  },
  {
   "cell_type": "code",
   "execution_count": 17,
   "id": "e9af1f9a-8616-485d-8133-df440056f2cc",
   "metadata": {},
   "outputs": [
    {
     "name": "stdin",
     "output_type": "stream",
     "text": [
      "Enter your Age 18\n"
     ]
    },
    {
     "name": "stdout",
     "output_type": "stream",
     "text": [
      "You are eligible for voting and driving\n"
     ]
    }
   ],
   "source": [
    "#Real World Voting Age Checker\n",
    "age =  int(input(\"Enter your Age\"))\n",
    "if(age>=18):\n",
    "    print(\"You are eligible for voting and driving\")\n",
    "else:\n",
    "    print(\"You are not eligible for voting and driving\")"
   ]
  },
  {
   "cell_type": "code",
   "execution_count": null,
   "id": "33421c2c-3cf4-47f2-85fc-d070790fa7e4",
   "metadata": {},
   "outputs": [],
   "source": []
  }
 ],
 "metadata": {
  "kernelspec": {
   "display_name": "Python 3 (ipykernel)",
   "language": "python",
   "name": "python3"
  },
  "language_info": {
   "codemirror_mode": {
    "name": "ipython",
    "version": 3
   },
   "file_extension": ".py",
   "mimetype": "text/x-python",
   "name": "python",
   "nbconvert_exporter": "python",
   "pygments_lexer": "ipython3",
   "version": "3.12.4"
  }
 },
 "nbformat": 4,
 "nbformat_minor": 5
}
