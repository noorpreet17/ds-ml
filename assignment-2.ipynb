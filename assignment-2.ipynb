{
 "cells": [
  {
   "cell_type": "code",
   "execution_count": 5,
   "id": "fb05d040-41cb-4925-bdf9-8bed44b98282",
   "metadata": {},
   "outputs": [
    {
     "name": "stdin",
     "output_type": "stream",
     "text": [
      "Enter base ticket fare:  10\n",
      "Enter your age:  18\n"
     ]
    },
    {
     "name": "stdout",
     "output_type": "stream",
     "text": [
      "Discounted fare: 10.0\n"
     ]
    }
   ],
   "source": [
    "#Real World Bus Ticket Fare Calculator\n",
    "fare = float(input(\"Enter base ticket fare: \"))\n",
    "age = int(input(\"Enter your age: \"))\n",
    "\n",
    "if age <= 10:\n",
    "    off = 0.90   \n",
    "elif age >= 60:\n",
    "    off = 0.80   \n",
    "else:\n",
    "    off = 0.00   \n",
    "\n",
    "total = fare * (1 - off)\n",
    "print(\"Discounted fare:\", total)\n"
   ]
  },
  {
   "cell_type": "code",
   "execution_count": 7,
   "id": "880e4681-cd78-4db6-813a-c25e55c15f45",
   "metadata": {},
   "outputs": [
    {
     "name": "stdin",
     "output_type": "stream",
     "text": [
      "Enter electricity units consumed:  400\n"
     ]
    },
    {
     "name": "stdout",
     "output_type": "stream",
     "text": [
      "Final total electricity bill:  2000.0\n"
     ]
    }
   ],
   "source": [
    "#Real World Electricity Bill Generator\n",
    "units = float(input(\"Enter electricity units consumed: \"))\n",
    "\n",
    "if units <= 100:\n",
    "    rate = 1.5\n",
    "elif units <= 200:\n",
    "    rate = 2.5\n",
    "elif units <= 300:\n",
    "    rate = 4\n",
    "else:\n",
    "    rate = 5\n",
    "\n",
    "total = units * rate\n",
    "print(\"Final total electricity bill: \",total)"
   ]
  },
  {
   "cell_type": "code",
   "execution_count": 9,
   "id": "103a7974-f3a3-4600-a06a-519a6ca080b8",
   "metadata": {},
   "outputs": [
    {
     "name": "stdin",
     "output_type": "stream",
     "text": [
      "Enter no. of due days:  3\n"
     ]
    },
    {
     "name": "stdout",
     "output_type": "stream",
     "text": [
      "Fine Amount:  6\n"
     ]
    }
   ],
   "source": [
    "#Real World Library Fine Calculator\n",
    "d = int(input(\"Enter no. of due days: \"))\n",
    "if d <= 5:\n",
    "    fine = d * 2\n",
    "elif d <= 10:\n",
    "    fine = 5*2 + (d - 5) * 5\n",
    "else:\n",
    "    fine = 5*2 + 5*5 + (d - 10) * 10\n",
    "print(\"Fine Amount: \",fine)"
   ]
  },
  {
   "cell_type": "code",
   "execution_count": null,
   "id": "3d4cc975-6cdb-4746-969a-28a7a591a8d6",
   "metadata": {},
   "outputs": [
    {
     "name": "stdin",
     "output_type": "stream",
     "text": [
      "Enter username:  noorpreet17\n",
      "Enter password:  1725\n"
     ]
    },
    {
     "name": "stdout",
     "output_type": "stream",
     "text": [
      "Incorrect credentials! Attempts left:  2\n"
     ]
    }
   ],
   "source": [
    "#Real World User Login System\n",
    "user_name = \"Unknown\"\n",
    "password = \"1234\"\n",
    "attempts = 3\n",
    "while attempts > 0:\n",
    "    user = input(\"Enter username: \")\n",
    "    pwd = input(\"Enter password: \")\n",
    "\n",
    "    if user == user_name and pwd == password:\n",
    "        print(\"Login successful!\")\n",
    "        break\n",
    "    else:\n",
    "        attempts -= 1\n",
    "        print(\"Incorrect credentials! Attempts left: \",attempts)\n",
    "if attempts == 0:\n",
    "    print(\"Account locked due to too many failed attempts.\")"
   ]
  },
  {
   "cell_type": "code",
   "execution_count": null,
   "id": "3d480d35-f282-4b1c-9ce2-3a87aa7e73bd",
   "metadata": {},
   "outputs": [],
   "source": []
  }
 ],
 "metadata": {
  "kernelspec": {
   "display_name": "Python 3 (ipykernel)",
   "language": "python",
   "name": "python3"
  },
  "language_info": {
   "codemirror_mode": {
    "name": "ipython",
    "version": 3
   },
   "file_extension": ".py",
   "mimetype": "text/x-python",
   "name": "python",
   "nbconvert_exporter": "python",
   "pygments_lexer": "ipython3",
   "version": "3.12.4"
  }
 },
 "nbformat": 4,
 "nbformat_minor": 5
}
