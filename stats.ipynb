{
 "cells": [
  {
   "cell_type": "code",
   "execution_count": 1,
   "id": "919150f7-ce09-41cc-99cf-027ef7ef5bcb",
   "metadata": {},
   "outputs": [
    {
     "name": "stdout",
     "output_type": "stream",
     "text": [
      "Mean: 67.0\n",
      "Median: 66.0\n",
      "Mode: 0    45\n",
      "1    56\n",
      "2    66\n",
      "3    78\n",
      "4    90\n",
      "Name: MARKS, dtype: int64\n",
      "Variance: 279.1111111111111\n",
      "Standard Deviation: 16.706618781522224\n"
     ]
    }
   ],
   "source": [
    "import pandas as pd\n",
    "rt=pd.read_csv(r\"C:\\Users\\Student\\Documents\\student.csv\")\n",
    "Mean=rt[\"MARKS\"].mean()\n",
    "print(f\"Mean: {Mean}\")\n",
    "Median=rt[\"MARKS\"].median()\n",
    "print(f\"Median: {Median}\")\n",
    "Mode=rt[\"MARKS\"].mode()\n",
    "print(f\"Mode: {Mode}\")\n",
    "Variance=rt[\"MARKS\"].var()\n",
    "print(f\"Variance: {Variance}\")\n",
    "SD=rt[\"MARKS\"].std()\n",
    "print(f\"Standard Deviation: {SD}\")"
   ]
  },
  {
   "cell_type": "code",
   "execution_count": null,
   "id": "745897be-be32-404c-a379-434fa3ca4b62",
   "metadata": {},
   "outputs": [],
   "source": []
  }
 ],
 "metadata": {
  "kernelspec": {
   "display_name": "Python 3 (ipykernel)",
   "language": "python",
   "name": "python3"
  },
  "language_info": {
   "codemirror_mode": {
    "name": "ipython",
    "version": 3
   },
   "file_extension": ".py",
   "mimetype": "text/x-python",
   "name": "python",
   "nbconvert_exporter": "python",
   "pygments_lexer": "ipython3",
   "version": "3.12.4"
  }
 },
 "nbformat": 4,
 "nbformat_minor": 5
}
